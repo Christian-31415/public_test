{
  "nbformat": 4,
  "nbformat_minor": 0,
  "metadata": {
    "colab": {
      "provenance": [],
      "authorship_tag": "ABX9TyO3v7S3DMJ7NKf6NDHJ0mVh",
      "include_colab_link": true
    },
    "kernelspec": {
      "name": "python3",
      "display_name": "Python 3"
    },
    "language_info": {
      "name": "python"
    }
  },
  "cells": [
    {
      "cell_type": "markdown",
      "metadata": {
        "id": "view-in-github",
        "colab_type": "text"
      },
      "source": [
        "<a href=\"https://colab.research.google.com/github/Christian-31415/public_test/blob/main/teste_auxiliar.ipynb\" target=\"_parent\"><img src=\"https://colab.research.google.com/assets/colab-badge.svg\" alt=\"Open In Colab\"/></a>"
      ]
    },
    {
      "cell_type": "code",
      "execution_count": null,
      "metadata": {
        "id": "Pq35vZgj9vg5"
      },
      "outputs": [],
      "source": [
        "#@title Def redutor_de_base\n",
        "\n",
        "# Função auxiliar para remover linhas zeradas das bases finais\n",
        "\n",
        "def redutor_de_base(df,col_valores):\n",
        "  '''\n",
        "  Esta função tem como intuito eliminar as linhas zeradas da base de output diario.\n",
        "  Criamos uma coluna auxiliar que contém a soma de todas as etapas e damos um \n",
        "  'filter out' nas linhas cuja coluna auxiliar está zerada\n",
        "  '''\n",
        "  df[col_valores] = df[col_valores].astype(float)\n",
        "  try:\n",
        "    df['aux'] = df[col_valores].sum(axis=1)\n",
        "    df = df[df['aux'] != 0]\n",
        "    df = df.drop(columns=['aux'])\n",
        "  except:\n",
        "    df = df[df[col_valores] != 0]    \n",
        "  \n",
        "  \n",
        "  return df"
      ]
    }
  ]
}